{
 "cells": [
  {
   "cell_type": "code",
   "execution_count": null,
   "id": "2e036475-fe19-4cd4-a168-0226324a8001",
   "metadata": {},
   "outputs": [],
   "source": []
  }
 ],
 "metadata": {
  "kernelspec": {
   "display_name": "",
   "name": ""
  },
  "language_info": {
   "name": ""
  }
 },
 "nbformat": 4,
 "nbformat_minor": 5
}
